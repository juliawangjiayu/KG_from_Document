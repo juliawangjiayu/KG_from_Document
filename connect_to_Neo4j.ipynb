{
 "cells": [
  {
   "cell_type": "code",
   "execution_count": 17,
   "id": "0af2a8ed",
   "metadata": {},
   "outputs": [],
   "source": [
    "from neo4j import GraphDatabase\n",
    "import json"
   ]
  },
  {
   "cell_type": "code",
   "execution_count": 18,
   "id": "98a07dbc",
   "metadata": {},
   "outputs": [],
   "source": [
    "uri = \"neo4j://127.0.0.1:7687\"\n",
    "username = \"neo4j\"\n",
    "password = \"88888888\"\n",
    "\n",
    "driver = GraphDatabase.driver(uri, auth=(username, password))"
   ]
  },
  {
   "cell_type": "code",
   "execution_count": 19,
   "id": "1244e111",
   "metadata": {},
   "outputs": [],
   "source": [
    "def create_constraints(tx):\n",
    "    tx.run(\"CREATE CONSTRAINT IF NOT EXISTS FOR (p:Person) REQUIRE p.person_id IS UNIQUE\")\n",
    "    tx.run(\"CREATE CONSTRAINT IF NOT EXISTS FOR (d:Document) REQUIRE d.doc_id IS UNIQUE\")"
   ]
  },
  {
   "cell_type": "code",
   "execution_count": 20,
   "id": "6cc5620e",
   "metadata": {},
   "outputs": [],
   "source": [
    "def insert_person_and_doc(tx, person_id, name, traits, doc_id, text):\n",
    "    tx.run(\"\"\"\n",
    "        MERGE (p:Person {person_id: $person_id})\n",
    "        SET p.name = $name,\n",
    "            p.openness = $openness,\n",
    "            p.conscientiousness = $conscientiousness,\n",
    "            p.extraversion = $extraversion,\n",
    "            p.agreeableness = $agreeableness,\n",
    "            p.neuroticism = $neuroticism\n",
    "        MERGE (d:Document {doc_id: $doc_id})\n",
    "        SET d.text = $text\n",
    "        MERGE (p)-[:HAS_DOCUMENT]->(d)\n",
    "    \"\"\", \n",
    "    person_id=person_id, name=name, \n",
    "    openness=traits[\"openness\"], conscientiousness=traits[\"conscientiousness\"],\n",
    "    extraversion=traits[\"extraversion\"], agreeableness=traits[\"agreeableness\"],\n",
    "    neuroticism=traits[\"neuroticism\"],\n",
    "    doc_id=doc_id, text=text)"
   ]
  },
  {
   "cell_type": "code",
   "execution_count": 21,
   "id": "e5d12292",
   "metadata": {},
   "outputs": [],
   "source": [
    "def load_and_write_to_neo4j(prediction_file):\n",
    "    with open(prediction_file, \"r\") as f:\n",
    "        data = json.load(f)\n",
    "    \n",
    "    with driver.session() as session:\n",
    "        session.execute_write(create_constraints)\n",
    "        for i, record in enumerate(data):\n",
    "            person_id = f\"person_{i+1}\"\n",
    "            name = f\"Person_{i+1}\"\n",
    "            doc_id = f\"doc_{i+1}\"\n",
    "            text = record[\"document\"]\n",
    "            traits = record[\"predicted_traits\"]\n",
    "            session.execute_write(insert_person_and_doc, person_id, name, traits, doc_id, text)\n",
    "    \n",
    "    print(f\"✅ Imported {len(data)} records into Neo4j.\")"
   ]
  },
  {
   "cell_type": "code",
   "execution_count": 23,
   "id": "146d38b8",
   "metadata": {},
   "outputs": [
    {
     "name": "stdout",
     "output_type": "stream",
     "text": [
      "✅ Imported 15 records into Neo4j.\n"
     ]
    }
   ],
   "source": [
    "load_and_write_to_neo4j(\"mlp_predictions.json\")"
   ]
  }
 ],
 "metadata": {
  "kernelspec": {
   "display_name": "Python 3",
   "language": "python",
   "name": "python3"
  },
  "language_info": {
   "codemirror_mode": {
    "name": "ipython",
    "version": 3
   },
   "file_extension": ".py",
   "mimetype": "text/x-python",
   "name": "python",
   "nbconvert_exporter": "python",
   "pygments_lexer": "ipython3",
   "version": "3.9.6"
  }
 },
 "nbformat": 4,
 "nbformat_minor": 5
}
