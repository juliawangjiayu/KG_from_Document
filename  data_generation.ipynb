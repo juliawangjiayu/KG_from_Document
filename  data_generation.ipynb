{
 "cells": [
  {
   "cell_type": "code",
   "execution_count": null,
   "id": "c2a631e3",
   "metadata": {},
   "outputs": [],
   "source": [
    "import random\n",
    "import json\n",
    "import uuid\n",
    "import names\n",
    "from openai import OpenAI\n",
    "client = OpenAI(api_key=\"sk-xxxx\")  # Replace with your actual key"
   ]
  },
  {
   "cell_type": "code",
   "execution_count": 10,
   "id": "178d2934",
   "metadata": {},
   "outputs": [],
   "source": [
    "TRAITS = {\n",
    "    \"openness\": [\"curious\", \"imaginative\", \"open to new experiences\", \"creative\", \"adventurous\"],\n",
    "    \"conscientiousness\": [\"organized\", \"responsible\", \"hardworking\", \"disciplined\", \"detail-oriented\"],\n",
    "    \"extraversion\": [\"outgoing\", \"talkative\", \"energetic\", \"sociable\", \"assertive\"],\n",
    "    \"agreeableness\": [\"kind\", \"cooperative\", \"empathetic\", \"helpful\", \"trusting\"],\n",
    "    \"neuroticism\": [\"anxious\", \"moody\", \"emotional\", \"insecure\", \"sensitive\"]\n",
    "}\n",
    "\n",
    "CONTEXTS = [\"workplace\", \"social life\", \"emotional experiences\"]"
   ]
  },
  {
   "cell_type": "code",
   "execution_count": 11,
   "id": "75c9b56c",
   "metadata": {},
   "outputs": [],
   "source": [
    "def generate_person():\n",
    "    return {\n",
    "        \"name\": names.get_full_name(),\n",
    "        \"age\": random.randint(20, 60),\n",
    "        \"occupation\": random.choice([\"teacher\", \"engineer\", \"artist\", \"doctor\", \"student\", \"writer\", \"designer\"]),\n",
    "        \"gender\": random.choice([\"male\", \"female\", \"non-binary\"])\n",
    "    }\n",
    "\n",
    "def select_traits():\n",
    "    traits = random.sample(list(TRAITS.keys()), k=random.randint(2, 3))\n",
    "    return {t: round(random.uniform(0.1, 1.0), 2) for t in traits}\n",
    "\n",
    "def generate_document(person, traits_dict):\n",
    "    trait_descriptions = \", \".join([f\"{trait} (strength {strength})\" for trait, strength in traits_dict.items()])\n",
    "    contexts = random.sample(CONTEXTS, k=random.randint(1, 3))\n",
    "    context_str = \", \".join(contexts)\n",
    "\n",
    "    prompt = f\"\"\"\n",
    "    Write a coherent paragraph (5-8 sentences) describing {person['name']}, \n",
    "    a {person['age']}-year-old {person['occupation']}. \n",
    "    The description should illustrate their personality traits ({trait_descriptions})\n",
    "    through behaviors, emotions, and interactions. \n",
    "    Cover contexts like {context_str}. \n",
    "    Do not list traits explicitly — show them naturally through storytelling and actions.\n",
    "    \"\"\"\n",
    "\n",
    "    response = client.responses.create(model=\"gpt-4.1\", input=prompt)\n",
    "    text = response.output_text.strip()\n",
    "    return {\n",
    "        \"doc_id\": str(uuid.uuid4()),\n",
    "        \"text\": text,\n",
    "        \"context\": contexts,\n",
    "        \"source\": \"synthetic_llm\"\n",
    "    }"
   ]
  },
  {
   "cell_type": "code",
   "execution_count": 12,
   "id": "d8fa313a",
   "metadata": {},
   "outputs": [],
   "source": [
    "def create_record(person, traits_dict, document):\n",
    "    return {\n",
    "        \"person_id\": str(uuid.uuid4()),\n",
    "        \"person\": person,\n",
    "        \"traits\": [{\"name\": t, \"strength\": s} for t, s in traits_dict.items()],\n",
    "        \"document\": document\n",
    "    }"
   ]
  },
  {
   "cell_type": "code",
   "execution_count": 13,
   "id": "b0204dcb",
   "metadata": {},
   "outputs": [],
   "source": [
    "def generate_dataset(n_samples=100):\n",
    "    records = []\n",
    "    for _ in range(n_samples):\n",
    "        person = generate_person()\n",
    "        traits_dict = select_traits()\n",
    "        document = generate_document(person, traits_dict)\n",
    "        record = create_record(person, traits_dict, document)\n",
    "        records.append(record)\n",
    "    return records\n",
    "\n",
    "def split_dataset(records, train_ratio=0.7, val_ratio=0.15):\n",
    "    random.shuffle(records)\n",
    "    n = len(records)\n",
    "    n_train = int(n * train_ratio)\n",
    "    n_val = int(n * val_ratio)\n",
    "    train = records[:n_train]\n",
    "    val = records[n_train:n_train+n_val]\n",
    "    test = records[n_train+n_val:]\n",
    "    return train, val, test\n",
    "\n",
    "def save_json(data, filename):\n",
    "    with open(filename, \"w\") as f:\n",
    "        json.dump(data, f, indent=2)"
   ]
  },
  {
   "cell_type": "code",
   "execution_count": 14,
   "id": "74f8b453",
   "metadata": {},
   "outputs": [
    {
     "name": "stdout",
     "output_type": "stream",
     "text": [
      "Generating synthetic personality dataset...\n",
      "✅ Generated 100 samples.\n",
      "Train: 70, Validation: 15, Test: 15\n"
     ]
    }
   ],
   "source": [
    "if __name__ == \"__main__\":\n",
    "    print(\"Generating synthetic personality dataset...\")\n",
    "    all_records = generate_dataset(n_samples=100)  # you can scale up later\n",
    "    train, val, test = split_dataset(all_records)\n",
    "\n",
    "    save_json(train, \"train_dataset.json\")\n",
    "    save_json(val, \"validation_dataset.json\")\n",
    "    save_json(test, \"test_dataset.json\")\n",
    "\n",
    "    print(f\"✅ Generated {len(all_records)} samples.\")\n",
    "    print(f\"Train: {len(train)}, Validation: {len(val)}, Test: {len(test)}\")"
   ]
  }
 ],
 "metadata": {
  "kernelspec": {
   "display_name": "Python 3",
   "language": "python",
   "name": "python3"
  },
  "language_info": {
   "codemirror_mode": {
    "name": "ipython",
    "version": 3
   },
   "file_extension": ".py",
   "mimetype": "text/x-python",
   "name": "python",
   "nbconvert_exporter": "python",
   "pygments_lexer": "ipython3",
   "version": "3.9.6"
  }
 },
 "nbformat": 4,
 "nbformat_minor": 5
}
